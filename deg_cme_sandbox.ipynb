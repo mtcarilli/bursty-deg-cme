{
  "nbformat": 4,
  "nbformat_minor": 0,
  "metadata": {
    "colab": {
      "provenance": [],
      "authorship_tag": "ABX9TyPd0p14e/+5bkZMH8/pjvtE",
      "include_colab_link": true
    },
    "kernelspec": {
      "name": "python3",
      "display_name": "Python 3"
    },
    "language_info": {
      "name": "python"
    }
  },
  "cells": [
    {
      "cell_type": "markdown",
      "metadata": {
        "id": "view-in-github",
        "colab_type": "text"
      },
      "source": [
        "<a href=\"https://colab.research.google.com/github/mtcarilli/bursty-deg-cme/blob/main/deg_cme_sandbox.ipynb\" target=\"_parent\"><img src=\"https://colab.research.google.com/assets/colab-badge.svg\" alt=\"Open In Colab\"/></a>"
      ]
    },
    {
      "cell_type": "code",
      "execution_count": 71,
      "metadata": {
        "id": "OoUNLSOL2Y19"
      },
      "outputs": [],
      "source": [
        "import numpy as np\n",
        "\n",
        "import scipy\n",
        "from scipy.integrate import odeint\n",
        "from scipy.fft import ifft, ifft2, ifftn, irfft, irfftn\n",
        "\n",
        "import matplotlib.pyplot as plt"
      ]
    },
    {
      "cell_type": "code",
      "source": [
        "# get grid of u to solve PGF on before IFFT -- from Gennady, https://github.com/mtcarilli/ATAC_RNA/blob/main/pss_evaluation.py#L40\n",
        "def get_g(mx):\n",
        "    u = []\n",
        "    for i in range(len(mx)):\n",
        "        l = np.arange(mx[i])\n",
        "        u_ = np.exp(-2j*np.pi*l/mx[i])-1\n",
        "        u.append(u_)\n",
        "    g = np.meshgrid(*[u_ for u_ in u], indexing='ij')\n",
        "    g = [g_.flatten() for g_ in g]\n",
        "    return g"
      ],
      "metadata": {
        "id": "QAXnoHwh7h4o"
      },
      "execution_count": 72,
      "outputs": []
    },
    {
      "cell_type": "code",
      "source": [
        "# define the ODEs\n",
        "\n",
        "def coupled_PGF(s,G,u,k,lambda1,lambda2,r1,r2):\n",
        "  '''Sets up the coupled PGFs dG1/ds and dG2/ds for a model of constitutive transcription with two states of degradation.\n",
        "\n",
        "  Variables\n",
        "  -------------\n",
        "  G: list of [G1,G2]\n",
        "  s: integral variable\n",
        "  u: PGF variable, change of variables u = g -1\n",
        "  k: rate of transcription\n",
        "  lambda1: rate of degradation of G1\n",
        "  lambda2: rate of degradation of G2\n",
        "  r1: rate of switching between state 2 and 1\n",
        "  r2: rate of switching between state 1 and 2\n",
        "  '''\n",
        "  G1,G2 = G\n",
        "  dG1ds = k*u*np.exp(-lambda1*s)*G1 + r1*G2 -  r2*G1\n",
        "  dG2ds = k*u*np.exp(-lambda2*s)*G2 + r2*G1 -  r1*G2\n",
        "  return [-dG1ds,-dG2ds]\n",
        "\n",
        "\n",
        "\n",
        "k = 10    # rate of production\n",
        "lambda1 = 1   # rate of degradation in state 1\n",
        "lambda2 = 1   # rate of degradation in state 2\n",
        "r1 = .1     # rate of switching from state 2 to 1\n",
        "r2 = 1    # rate of switching from state 1 to 2\n",
        "\n",
        "\n",
        "H = np.array([[-r2,r2],[r1,-r1]])   # state switching matrix\n",
        "Hfin = scipy.linalg.null_space(H.T)  # set initial condition using null space of transition matrix\n",
        "Hfin /= Hfin.sum()\n",
        "initcond = Hfin.squeeze().astype(np.complex128)\n",
        "# initcond = np.array([.5,.5],dtype=np.complex128)\n",
        "\n",
        "\n",
        "\n"
      ],
      "metadata": {
        "id": "Eo09ODFW37wH"
      },
      "execution_count": 83,
      "outputs": []
    },
    {
      "cell_type": "code",
      "source": [
        "\n",
        "t = np.linspace(0, 10, 10000)\n",
        "lim = 100\n",
        "mx = [int(lim)]\n",
        "g = get_g(mx)\n",
        "\n",
        "pgf = np.zeros((lim,2),dtype=np.complex128)\n",
        "\n",
        "for i,u in enumerate(g[0]):\n",
        "\n",
        "  intfun = lambda t,y: coupled_PGF(t,y,u,k,lambda1,lambda2,r1,r2)\n",
        "  res = scipy.integrate.solve_ivp(intfun,[10,0],initcond)\n",
        "  pgf[i,:] = res.y[:,-1]\n",
        "\n",
        "\n",
        "PSS = np.zeros(mx + [2])\n",
        "\n",
        "PSS[:,0] = np.real( ifft2(np.reshape(pgf[:,0], (-1,lim) ) ).flatten() )\n",
        "PSS[:,1] = np.real( ifft2(np.reshape(pgf[:,1], (-1,lim) ) ).flatten() )"
      ],
      "metadata": {
        "id": "69lY3eCs7CYv"
      },
      "execution_count": 84,
      "outputs": []
    },
    {
      "cell_type": "code",
      "source": [
        "# PSS = np.abs(PSS)\n",
        "# PSS = PSS/PSS.sum()"
      ],
      "metadata": {
        "id": "YS7Rg43O6vxp"
      },
      "execution_count": 85,
      "outputs": []
    },
    {
      "cell_type": "code",
      "source": [
        "PSS.sum()"
      ],
      "metadata": {
        "colab": {
          "base_uri": "https://localhost:8080/"
        },
        "id": "xe36DO6V627X",
        "outputId": "998caa60-ffaf-4f80-d0e8-200d4a95d9ad"
      },
      "execution_count": 86,
      "outputs": [
        {
          "output_type": "execute_result",
          "data": {
            "text/plain": [
              "np.float64(1.0)"
            ]
          },
          "metadata": {},
          "execution_count": 86
        }
      ]
    },
    {
      "cell_type": "code",
      "source": [
        "plt.plot(PSS[:,0],label='mRNA in state 1')\n",
        "plt.plot(PSS[:,1],label='mRNA in state 2')\n",
        "plt.title('Constitutive txn with two state degradation')\n",
        "plt.legend()\n",
        "plt.xlabel('# mRNA')\n",
        "plt.ylabel('PSS');"
      ],
      "metadata": {
        "colab": {
          "base_uri": "https://localhost:8080/",
          "height": 472
        },
        "id": "n6ouiFGS8eSs",
        "outputId": "3bb2ff31-c672-4a7e-ac85-fd4ff6bd346b"
      },
      "execution_count": 87,
      "outputs": [
        {
          "output_type": "display_data",
          "data": {
            "text/plain": [
              "<Figure size 640x480 with 1 Axes>"
            ],
            "image/png": "[encoded data removed]"
          },
          "metadata": {}
        }
      ]
    },
    {
      "cell_type": "code",
      "source": [],
      "metadata": {
        "id": "32oBIJk6-UFq"
      },
      "execution_count": null,
      "outputs": []
    }
  ]
}