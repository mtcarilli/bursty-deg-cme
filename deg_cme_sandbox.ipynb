{
  "nbformat": 4,
  "nbformat_minor": 0,
  "metadata": {
    "colab": {
      "provenance": [],
      "authorship_tag": "ABX9TyN8jj5QKwoI1BnxsiCu4iVn",
      "include_colab_link": true
    },
    "kernelspec": {
      "name": "python3",
      "display_name": "Python 3"
    },
    "language_info": {
      "name": "python"
    }
  },
  "cells": [
    {
      "cell_type": "markdown",
      "metadata": {
        "id": "view-in-github",
        "colab_type": "text"
      },
      "source": [
        "<a href=\"https://colab.research.google.com/github/mtcarilli/bursty-deg-cme/blob/main/deg_cme_sandbox.ipynb\" target=\"_parent\"><img src=\"https://colab.research.google.com/assets/colab-badge.svg\" alt=\"Open In Colab\"/></a>"
      ]
    },
    {
      "cell_type": "code",
      "execution_count": 4,
      "metadata": {
        "id": "OoUNLSOL2Y19"
      },
      "outputs": [],
      "source": [
        "import numpy as np\n",
        "\n",
        "import scipy\n",
        "from scipy.integrate import odeint\n",
        "from scipy.fft import ifft, ifft2, ifftn, irfft, irfftn\n",
        "\n",
        "import matplotlib.pyplot as plt"
      ]
    },
    {
      "cell_type": "code",
      "source": [
        "# get grid of u to solve PGF on before IFFT -- from Gennady, https://github.com/mtcarilli/ATAC_RNA/blob/main/pss_evaluation.py#L40\n",
        "def get_g(mx):\n",
        "    u = []\n",
        "    for i in range(len(mx)):\n",
        "        l = np.arange(mx[i])\n",
        "        u_ = np.exp(-2j*np.pi*l/mx[i])-1\n",
        "        u.append(u_)\n",
        "    g = np.meshgrid(*[u_ for u_ in u], indexing='ij')\n",
        "    g = [g_.flatten() for g_ in g]\n",
        "    return g"
      ],
      "metadata": {
        "id": "QAXnoHwh7h4o"
      },
      "execution_count": 33,
      "outputs": []
    },
    {
      "cell_type": "code",
      "source": [
        "# define the ODEs\n",
        "\n",
        "def coupled_PGF(G,s,u,k,lambda1,lambda2,r1,r2):\n",
        "  '''Sets up the coupled PGFs dG1/ds and dG2/ds for a model of constitutive transcription with two states of degradation.\n",
        "\n",
        "  Variables\n",
        "  -------------\n",
        "  G: list of [G1,G2]\n",
        "  s: integral variable\n",
        "  u: PGF variable, change of variables u = g -1\n",
        "  k: rate of transcription\n",
        "  lambda1: rate of degradation of G1\n",
        "  lambda2: rate of degradation of G2\n",
        "  r1: rate of switching between state 2 and 1\n",
        "  r2: rate of switching between state 1 and 2\n",
        "  '''\n",
        "  G1,G2 = G\n",
        "  dG1ds = k*u*np.exp(-lambda1*s)*G1 + r1*G2 -  r2*G1\n",
        "  dG2ds = k*u*np.exp(-lambda2*s)*G2 + r2*G1 -  r1*G2\n",
        "  return [dG1ds,dG2ds]\n",
        "\n",
        "\n",
        "\n",
        "k = 1\n",
        "lambda1 = 1\n",
        "lambda2 = 1\n",
        "r1 = 1     # mostly in the active degradation state\n",
        "r2 = 1    # switching is slower than transcription?\n",
        "\n",
        "\n",
        "H = np.array([[-r2,r2],[r1,-r1]])   # state switching matrix\n",
        "Hfin = scipy.linalg.null_space(H.T)  # set initial condition using null space of transition matrix\n",
        "Hfin /= Hfin.sum()\n",
        "initcond = Hfin.squeeze()\n",
        "initcond = [1,1]\n",
        "\n",
        "\n",
        "\n"
      ],
      "metadata": {
        "id": "Eo09ODFW37wH"
      },
      "execution_count": 92,
      "outputs": []
    },
    {
      "cell_type": "code",
      "source": [
        "\n",
        "t = np.linspace(0, 10, 10000)\n",
        "lim = 1000\n",
        "mx = [int(lim)]\n",
        "g = get_g(mx)\n",
        "\n",
        "pgf = np.zeros((lim,2))\n",
        "\n",
        "for i,u in enumerate(g[0]):\n",
        "  pgf[i,:]  = odeint(coupled_PGF, initcond, t, args=(u, k, lambda1, lambda2, r1, r2))[-1,:]\n",
        "\n",
        "PSS = np.zeros(mx + [2])\n",
        "\n",
        "PSS[:,0] = np.real( ifft2(np.reshape(pgf[:,0], (-1,100) ) ).flatten() )\n",
        "PSS[:,1] = np.real( ifft2(np.reshape(pgf[:,1], (-1,100) ) ).flatten() )"
      ],
      "metadata": {
        "colab": {
          "base_uri": "https://localhost:8080/"
        },
        "id": "69lY3eCs7CYv",
        "outputId": "ed07e1b1-3f55-4b42-cec9-dc752d736a25"
      },
      "execution_count": 93,
      "outputs": [
        {
          "output_type": "stream",
          "name": "stderr",
          "text": [
            "/usr/local/lib/python3.11/dist-packages/scipy/integrate/_odepack_py.py:247: ComplexWarning: Casting complex values to real discards the imaginary part\n",
            "  output = _odepack.odeint(func, y0, t, args, Dfun, col_deriv, ml, mu,\n"
          ]
        }
      ]
    },
    {
      "cell_type": "code",
      "source": [
        "PSS = np.abs(PSS)\n",
        "PSS = PSS/PSS.sum()"
      ],
      "metadata": {
        "id": "YS7Rg43O6vxp"
      },
      "execution_count": 94,
      "outputs": []
    },
    {
      "cell_type": "code",
      "source": [
        "PSS.sum()"
      ],
      "metadata": {
        "colab": {
          "base_uri": "https://localhost:8080/"
        },
        "id": "xe36DO6V627X",
        "outputId": "b1eaf8cc-4c83-41e8-eee0-b1803c46b248"
      },
      "execution_count": 95,
      "outputs": [
        {
          "output_type": "execute_result",
          "data": {
            "text/plain": [
              "np.float64(1.0)"
            ]
          },
          "metadata": {},
          "execution_count": 95
        }
      ]
    },
    {
      "cell_type": "code",
      "source": [
        "plt.plot(PSS[:,0])\n",
        "plt.plot(PSS[:,1])"
      ],
      "metadata": {
        "colab": {
          "base_uri": "https://localhost:8080/",
          "height": 447
        },
        "id": "n6ouiFGS8eSs",
        "outputId": "ab39d522-f6cb-4688-ae29-af4f3ae49a86"
      },
      "execution_count": 96,
      "outputs": [
        {
          "output_type": "execute_result",
          "data": {
            "text/plain": [
              "[<matplotlib.lines.Line2D at 0x7e13f43c0790>]"
            ]
          },
          "metadata": {},
          "execution_count": 96
        },
        {
          "output_type": "display_data",
          "data": {
            "text/plain": [
              "<Figure size 640x480 with 1 Axes>"
            ],
            "image/png": "[encoded data removed]"
          },
          "metadata": {}
        }
      ]
    },
    {
      "cell_type": "code",
      "source": [],
      "metadata": {
        "id": "32oBIJk6-UFq"
      },
      "execution_count": null,
      "outputs": []
    }
  ]
}